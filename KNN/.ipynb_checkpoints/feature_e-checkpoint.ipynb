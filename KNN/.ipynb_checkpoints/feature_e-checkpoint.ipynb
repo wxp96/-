{
 "cells": [
  {
   "cell_type": "code",
   "execution_count": null,
   "metadata": {
    "collapsed": true
   },
   "outputs": [],
   "source": [
    "import pandas as pd \n",
    "import seaborn as sns\n",
    "import matplotlib.pyplot as plt\n",
    "from sklearn.model_selection import StratifiedShuffleSplit\n",
    "from pandas.tools.plotting import scatter_matrix\n",
    "from sklearn.preprocessing import LabelEncoder\n",
    "import numpy as np\n",
    "\n",
    "%matplotlib inline "
   ]
  },
  {
   "cell_type": "code",
   "execution_count": null,
   "metadata": {
    "collapsed": false
   },
   "outputs": [],
   "source": [
    "data = pd.read_csv(\"adult.csv\")\n",
    "data.head()"
   ]
  },
  {
   "cell_type": "code",
   "execution_count": null,
   "metadata": {
    "collapsed": false
   },
   "outputs": [],
   "source": [
    "data.info()"
   ]
  },
  {
   "cell_type": "code",
   "execution_count": null,
   "metadata": {
    "collapsed": false
   },
   "outputs": [],
   "source": [
    "def cc(x):\n",
    "    return sum(x=='?')\n",
    "data.apply(cc)"
   ]
  },
  {
   "cell_type": "code",
   "execution_count": null,
   "metadata": {
    "collapsed": true
   },
   "outputs": [],
   "source": [
    "data = data[~data['workclass'].isin(['?'])]\n",
    "data = data[~data['occupation'].isin(['?'])]\n",
    "data = data[~data['native.country'].isin(['?'])]"
   ]
  },
  {
   "cell_type": "code",
   "execution_count": null,
   "metadata": {
    "collapsed": false
   },
   "outputs": [],
   "source": [
    "for i in data.columns:\n",
    "    if type(data[i][1])== str:\n",
    "        print(data[i].value_counts())"
   ]
  },
  {
   "cell_type": "code",
   "execution_count": null,
   "metadata": {
    "collapsed": true
   },
   "outputs": [],
   "source": [
    "data_c = data.copy()"
   ]
  },
  {
   "cell_type": "code",
   "execution_count": null,
   "metadata": {
    "collapsed": true
   },
   "outputs": [],
   "source": [
    "data_c.loc[data['native.country']!='United-States','native.country'] = 'non_usa'"
   ]
  },
  {
   "cell_type": "code",
   "execution_count": null,
   "metadata": {
    "collapsed": true
   },
   "outputs": [],
   "source": [
    "data_c.loc[data_c['income']=='<=50K','income'] = 0\n",
    "data_c.loc[data_c['income']=='>50K','income'] = 1"
   ]
  },
  {
   "cell_type": "code",
   "execution_count": null,
   "metadata": {
    "collapsed": false
   },
   "outputs": [],
   "source": [
    "fig, ((a,b),(c,d),(e,f)) = plt.subplots(3,2,figsize=(15,20))\n",
    "plt.xticks(rotation=45)\n",
    "sns.countplot(data_c['workclass'],hue=data_c['income'],ax=f)\n",
    "sns.countplot(data_c['relationship'],hue=data_c['income'],ax=b)\n",
    "sns.countplot(data_c['marital.status'],hue=data_c['income'],ax=c)\n",
    "sns.countplot(data_c['race'],hue=data_c['income'],ax=d)\n",
    "sns.countplot(data_c['sex'],hue=data_c['income'],ax=e)\n",
    "sns.countplot(data_c['native.country'],hue=data_c['income'],ax=a)"
   ]
  },
  {
   "cell_type": "code",
   "execution_count": null,
   "metadata": {
    "collapsed": true
   },
   "outputs": [],
   "source": [
    "data_c['marital.status']=data_c['marital.status'].map({'Married-civ-spouse':'Married', 'Divorced':'Single', 'Never-married':'Single', 'Separated':'Single', \n",
    "'Widowed':'Single', 'Married-spouse-absent':'Married', 'Married-AF-spouse':'Married'})\n",
    "data_c['workclass'] = data_c.workclass.map({'Private':'P', 'State-gov':'G', 'Federal-gov':'G', 'Self-emp-not-inc':'P', 'Self-emp-inc':'C', 'Local-gov':'G', 'Without-pay':'N'})\n",
    "data_c['relationship']=data_c['relationship'].map({'Not-in-family':'no_companion', 'Unmarried':'no_companion', 'Own-child':'no_companion', 'Other-relative':'no_companion', 'Husband':'companion', 'Wife':'companion'})\n",
    "data_c['t_capital']=data_c['capital.gain']-data_c['capital.loss']\n",
    "data_c['longhours'] = data_c['hours.per.week'] > 40"
   ]
  },
  {
   "cell_type": "code",
   "execution_count": null,
   "metadata": {
    "collapsed": false
   },
   "outputs": [],
   "source": [
    "for column in data_c:\n",
    "    enc=LabelEncoder()\n",
    "    if data_c.dtypes[column]==np.object:\n",
    "         data_c[column]=enc.fit_transform(data_c[column])\n",
    "            \n",
    "plt.figure(figsize=(14,10))\n",
    "sns.heatmap(data_c.corr(),annot=True,fmt='.2f',cmap='YlGnBu')\n",
    "plt.show()"
   ]
  },
  {
   "cell_type": "code",
   "execution_count": null,
   "metadata": {
    "collapsed": false
   },
   "outputs": [],
   "source": [
    "from sklearn import preprocessing\n",
    "data_c['age']"
   ]
  },
  {
   "cell_type": "code",
   "execution_count": null,
   "metadata": {
    "collapsed": false
   },
   "outputs": [],
   "source": [
    "data_c['age']= preprocessing.scale(data_c['age'])"
   ]
  },
  {
   "cell_type": "code",
   "execution_count": null,
   "metadata": {
    "collapsed": false
   },
   "outputs": [],
   "source": [
    "data_c.describe()"
   ]
  },
  {
   "cell_type": "code",
   "execution_count": null,
   "metadata": {
    "collapsed": false
   },
   "outputs": [],
   "source": [
    "%history"
   ]
  },
  {
   "cell_type": "code",
   "execution_count": null,
   "metadata": {
    "collapsed": true
   },
   "outputs": [],
   "source": []
  }
 ],
 "metadata": {
  "anaconda-cloud": {},
  "kernelspec": {
   "display_name": "Python [conda root]",
   "language": "python",
   "name": "conda-root-py"
  },
  "language_info": {
   "codemirror_mode": {
    "name": "ipython",
    "version": 3
   },
   "file_extension": ".py",
   "mimetype": "text/x-python",
   "name": "python",
   "nbconvert_exporter": "python",
   "pygments_lexer": "ipython3",
   "version": "3.5.2"
  }
 },
 "nbformat": 4,
 "nbformat_minor": 1
}
