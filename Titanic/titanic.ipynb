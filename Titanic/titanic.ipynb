{
 "cells": [
  {
   "cell_type": "code",
   "execution_count": 1,
   "metadata": {
    "collapsed": false
   },
   "outputs": [
    {
     "name": "stdout",
     "output_type": "stream",
     "text": [
      "       PassengerId    Survived      Pclass         Age       SibSp  \\\n",
      "count   891.000000  891.000000  891.000000  714.000000  891.000000   \n",
      "mean    446.000000    0.383838    2.308642   29.699118    0.523008   \n",
      "std     257.353842    0.486592    0.836071   14.526497    1.102743   \n",
      "min       1.000000    0.000000    1.000000    0.420000    0.000000   \n",
      "25%     223.500000    0.000000    2.000000         NaN    0.000000   \n",
      "50%     446.000000    0.000000    3.000000         NaN    0.000000   \n",
      "75%     668.500000    1.000000    3.000000         NaN    1.000000   \n",
      "max     891.000000    1.000000    3.000000   80.000000    8.000000   \n",
      "\n",
      "            Parch        Fare  \n",
      "count  891.000000  891.000000  \n",
      "mean     0.381594   32.204208  \n",
      "std      0.806057   49.693429  \n",
      "min      0.000000    0.000000  \n",
      "25%      0.000000    7.910400  \n",
      "50%      0.000000   14.454200  \n",
      "75%      0.000000   31.000000  \n",
      "max      6.000000  512.329200  \n"
     ]
    },
    {
     "name": "stderr",
     "output_type": "stream",
     "text": [
      "D:\\Anaconda\\Anaconda3\\lib\\site-packages\\numpy\\lib\\function_base.py:3652: RuntimeWarning: Invalid value encountered in percentile\n",
      "  interpolation=interpolation)\n"
     ]
    }
   ],
   "source": [
    "import pandas                                    #导入pandas库，这个库是专门设计用来做数据分析的工具\n",
    "titanic=pandas.read_csv('train.csv')      #读取文件titanic_train数据集\n",
    "print(titanic.describe())                        #describe()函数是用来描述数据属性的，然后print打印出来"
   ]
  },
  {
   "cell_type": "code",
   "execution_count": 2,
   "metadata": {
    "collapsed": false
   },
   "outputs": [
    {
     "name": "stdout",
     "output_type": "stream",
     "text": [
      "       PassengerId    Survived      Pclass         Age       SibSp  \\\n",
      "count   891.000000  891.000000  891.000000  891.000000  891.000000   \n",
      "mean    446.000000    0.383838    2.308642   29.361582    0.523008   \n",
      "std     257.353842    0.486592    0.836071   13.019697    1.102743   \n",
      "min       1.000000    0.000000    1.000000    0.420000    0.000000   \n",
      "25%     223.500000    0.000000    2.000000   22.000000    0.000000   \n",
      "50%     446.000000    0.000000    3.000000   28.000000    0.000000   \n",
      "75%     668.500000    1.000000    3.000000   35.000000    1.000000   \n",
      "max     891.000000    1.000000    3.000000   80.000000    8.000000   \n",
      "\n",
      "            Parch        Fare  \n",
      "count  891.000000  891.000000  \n",
      "mean     0.381594   32.204208  \n",
      "std      0.806057   49.693429  \n",
      "min      0.000000    0.000000  \n",
      "25%      0.000000    7.910400  \n",
      "50%      0.000000   14.454200  \n",
      "75%      0.000000   31.000000  \n",
      "max      6.000000  512.329200  \n"
     ]
    }
   ],
   "source": [
    "#机器学习中输入的数据集要求是M*N的矩阵，Age列有缺失值，median（）函数代表去均值\n",
    "titanic['Age']=titanic['Age'].fillna(titanic['Age'].median())   #fillna（）表示补充，median（）表示求平均值\n",
    "print(titanic.describe())                                      #再看看表的变化"
   ]
  },
  {
   "cell_type": "code",
   "execution_count": 3,
   "metadata": {
    "collapsed": false
   },
   "outputs": [
    {
     "name": "stdout",
     "output_type": "stream",
     "text": [
      "['male' 'female']\n"
     ]
    }
   ],
   "source": [
    "print(titanic['Sex'].unique())  #返回其参数数组中所有不同的值，并且按照从小到大的顺序排列\n",
    "#loc是通过行标签索引行数据，iloc是通过行号获取行数据， ix是结合前两种的混合索引\n",
    "#注意loc后面加的是中括号，不是小括号\n",
    "titanic.loc[titanic['Sex']=='male','Sex']=0\n",
    "titanic.loc[titanic['Sex']=='female','Sex']=1"
   ]
  },
  {
   "cell_type": "code",
   "execution_count": 4,
   "metadata": {
    "collapsed": false
   },
   "outputs": [
    {
     "name": "stdout",
     "output_type": "stream",
     "text": [
      "['S' 'C' 'Q' nan]\n"
     ]
    }
   ],
   "source": [
    "print(titanic['Embarked'].unique())\n",
    "titanic['Embarked']=titanic['Embarked'].fillna('S')\n",
    "titanic.loc[titanic['Embarked']=='S','Embarked']=0\n",
    "titanic.loc[titanic['Embarked']=='C','Embarked']=1\n",
    "titanic.loc[titanic['Embarked']=='Q','Embarked']=2"
   ]
  },
  {
   "cell_type": "code",
   "execution_count": 19,
   "metadata": {
    "collapsed": false
   },
   "outputs": [
    {
     "name": "stdout",
     "output_type": "stream",
     "text": [
      "0.7811447811447811\n",
      "0.7811447811447811\n",
      "0.7878787878787878\n",
      "0.7833894500561168\n"
     ]
    }
   ],
   "source": [
    "#在线性模型模块中导入线性回归\n",
    "#交叉验证，把训练数据集分成三份。最后去平均值\n",
    "import numpy\n",
    "from sklearn.linear_model import LinearRegression\n",
    "from sklearn.model_selection import KFold\n",
    "from sklearn.metrics import accuracy_score\n",
    " \n",
    "#这里的数据都对预测生存有影响\n",
    "predictors=['Pclass','Sex','Age','SibSp','Parch','Fare','Embarked']\n",
    " \n",
    "#把线性回归导进来\n",
    "alg=LinearRegression()\n",
    " \n",
    "#选择做几倍的交叉验证，n_folds意思是几倍\n",
    "kf=KFold(n_splits=3,random_state=1)\n",
    " \n",
    "predictions=[]\n",
    "for train,test in kf.split(titanic):\n",
    "    #意思是把训练数据拿出来\n",
    "    train_predictors=(titanic[predictors].iloc[train,:])\n",
    "    #the target we're using to train the algorithm\n",
    "    train_target=titanic['Survived'].iloc[train]\n",
    "    #把线性回归应用在train_pridictors,train_target数据集上\n",
    "    alg.fit(train_predictors,train_target)\n",
    "    #we can now make predictors on the test fold\n",
    "    test_predictions=alg.predict(titanic[predictors].iloc[test,:])\n",
    "    test_predictions[test_predictions>.5]=1\n",
    "    test_predictions[test_predictions<=.5]=0\n",
    "    score = accuracy_score(titanic['Survived'].iloc[test],test_predictions)\n",
    "    print(score)\n",
    "    #我们要进行预测，是要对测试集进行预测\n",
    "    predictions.append(score)\n",
    "print(np.mean(predictions))"
   ]
  },
  {
   "cell_type": "code",
   "execution_count": 20,
   "metadata": {
    "collapsed": false
   },
   "outputs": [
    {
     "name": "stdout",
     "output_type": "stream",
     "text": [
      "0.7878787878787877\n"
     ]
    }
   ],
   "source": [
    "#这里用的是逻辑回归的算法方式\n",
    "from sklearn import cross_validation\n",
    "from sklearn.linear_model import LogisticRegression\n",
    "#Initialize our algorithm\n",
    "alg=LogisticRegression(random_state=1)\n",
    "#Compute the accuracy score for all the cross validation folds.(much simpler than what we did before!)\n",
    "scores=cross_validation.cross_val_score(alg,titanic[predictors],titanic['Survived'],cv=3)\n",
    "#Take the mean of the scores(because we have one for each fold)\n",
    "print(scores.mean())"
   ]
  },
  {
   "cell_type": "code",
   "execution_count": 21,
   "metadata": {
    "collapsed": false
   },
   "outputs": [
    {
     "name": "stderr",
     "output_type": "stream",
     "text": [
      "D:\\Anaconda\\Anaconda3\\lib\\site-packages\\sklearn\\ensemble\\weight_boosting.py:29: DeprecationWarning: numpy.core.umath_tests is an internal NumPy module and should not be imported. It will be removed in a future NumPy release.\n",
      "  from numpy.core.umath_tests import inner1d\n"
     ]
    },
    {
     "name": "stdout",
     "output_type": "stream",
     "text": [
      "0.8148148148148148\n"
     ]
    }
   ],
   "source": [
    "#以下用的是随机森林的算法方式\n",
    "from sklearn import cross_validation\n",
    "from sklearn.ensemble import RandomForestClassifier\n",
    " \n",
    "predictors=['Pclass','Sex','Age','SibSp','Parch','Fare','Embarked']\n",
    " \n",
    "#这里后面的samples不要少写一个“s”\n",
    "#n_estimators是决策树的个数，min_samples_split是根据属性划分节点时，每个划分最少的样本数。min_samples_leaf:叶子节点最少的样本数。\n",
    "alg=RandomForestClassifier(random_state=1,n_estimators=100,min_samples_split=4,min_samples_leaf=2)\n",
    " \n",
    "kf=cross_validation.KFold(titanic.shape[0],n_folds=3,random_state=1)\n",
    "scores=cross_validation.cross_val_score(alg,titanic[predictors],titanic['Survived'],cv=kf)\n",
    " \n",
    "print(scores.mean()) \n"
   ]
  },
  {
   "cell_type": "code",
   "execution_count": 22,
   "metadata": {
    "collapsed": true
   },
   "outputs": [],
   "source": [
    "# Generating a familysize column\n",
    "titanic[\"FamilySize\"] = titanic[\"SibSp\"] + titanic[\"Parch\"]\n",
    "\n",
    "# The .apply method generates a new series\n",
    "titanic[\"NameLength\"] = titanic[\"Name\"].apply(lambda x:len(x)) # 名字长度"
   ]
  },
  {
   "cell_type": "code",
   "execution_count": 29,
   "metadata": {
    "collapsed": false
   },
   "outputs": [
    {
     "name": "stdout",
     "output_type": "stream",
     "text": [
      "Mr          517\n",
      "Miss        182\n",
      "Mrs         125\n",
      "Master       40\n",
      "Dr            7\n",
      "Rev           6\n",
      "Major         2\n",
      "Mlle          2\n",
      "Col           2\n",
      "Mme           1\n",
      "Lady          1\n",
      "Jonkheer      1\n",
      "Don           1\n",
      "Ms            1\n",
      "Countess      1\n",
      "Sir           1\n",
      "Capt          1\n",
      "Name: Name, dtype: int64\n",
      "1     517\n",
      "2     183\n",
      "3     125\n",
      "4      40\n",
      "5       7\n",
      "6       6\n",
      "7       5\n",
      "10      3\n",
      "8       3\n",
      "9       2\n",
      "Name: Name, dtype: int64\n"
     ]
    }
   ],
   "source": [
    "import re\n",
    "def get_title(name):\n",
    "    title_search = re.search('([A-Za-z]+)\\.',name)\n",
    "    if title_search:\n",
    "        return title_search.group(1)\n",
    "    return \"\"\n",
    "\n",
    "titles = titanic[\"Name\"].apply(get_title)\n",
    "print(pandas.value_counts(titles))\n",
    "\n",
    "# Map each title to an interger.Some titles are very rare,and are compressed into the same codes as other\n",
    "title_mapping = {\"Dona\": 1, \"Mr\": 1, \"Miss\": 2, \"Mrs\": 3, \"Master\": 4, \"Dr\": 5, \"Rev\": 6, \"Major\": 7, \"Col\": 7, \"Mlle\": 8, \"Mme\": 8, \"Don\": 9, \"Lady\": 10, \"Countess\": 10, \"Jonkheer\": 10, \"Sir\": 9, \"Capt\": 7, \"Ms\": 2}\n",
    "for k,v in title_mapping.items():\n",
    "    titles[titles == k] = v\n",
    "\n",
    "# Verify that we converted everything.\n",
    "print(pandas.value_counts(titles))\n",
    "\n",
    "# Add in the title column\n",
    "titanic[\"Title\"] = titles"
   ]
  },
  {
   "cell_type": "code",
   "execution_count": 30,
   "metadata": {
    "collapsed": false
   },
   "outputs": [
    {
     "name": "stderr",
     "output_type": "stream",
     "text": [
      "D:\\Anaconda\\Anaconda3\\lib\\site-packages\\sklearn\\utils\\__init__.py:93: FutureWarning: Conversion of the second argument of issubdtype from `int` to `np.signedinteger` is deprecated. In future, it will be treated as `np.int32 == np.dtype(int).type`.\n",
      "  if np.issubdtype(mask.dtype, np.int):\n"
     ]
    },
    {
     "data": {
      "image/png": "[encoded data removed]",
      "text/plain": [
       "<matplotlib.figure.Figure at 0x178d31ae2b0>"
      ]
     },
     "metadata": {},
     "output_type": "display_data"
    }
   ],
   "source": [
    "import numpy as np\n",
    "from sklearn.feature_selection import SelectKBest ,f_classif\n",
    "import matplotlib.pyplot as plt\n",
    "\n",
    "predictors = [\"Pclass\",\"Sex\",\"Age\",\"SibSp\",\"Parch\",\"Fare\",\"Embarked\",\"FamilySize\",\"Title\",\"NameLength\"]\n",
    "\n",
    "# perform feature selection\n",
    "selector = SelectKBest(f_classif,k=5)\n",
    "selector.fit(titanic[predictors],titanic[\"Survived\"])\n",
    "\n",
    "#Get the raw p-values for each feature,and transform from p-values into scores\n",
    "scores = -np.log10(selector.pvalues_)\n",
    "\n",
    "plt.bar(range(len(predictors)),scores)\n",
    "plt.xticks(range(len(predictors)),predictors,rotation='vertical')\n",
    "plt.show()\n",
    "\n",
    "# Pick only the four best features.\n",
    "predictors = [\"Pclass\",\"Sex\",\"Fare\",\"Title\"]\n",
    "\n",
    "alg = RandomForestClassifier(random_state=1,n_estimators=50,min_samples_split=8,min_samples_leaf=4)"
   ]
  },
  {
   "cell_type": "code",
   "execution_count": 46,
   "metadata": {
    "collapsed": false
   },
   "outputs": [
    {
     "name": "stdout",
     "output_type": "stream",
     "text": [
      "0.8080808080808081\n",
      "0.8249158249158249\n",
      "0.8215488215488216\n",
      "0.8181818181818182\n"
     ]
    }
   ],
   "source": [
    "from sklearn.ensemble import GradientBoostingClassifier \n",
    "import numpy as np\n",
    "\n",
    "algorithms = [\n",
    "   [GradientBoostingClassifier(random_state=1,n_estimators=25,max_depth=3),[\"Pclass\",\"Sex\",\"Age\",\"Fare\",\"Embarked\",\"FamilySize\",\"Title\"]],\n",
    "   [LogisticRegression(random_state=1),[\"Pclass\",\"Sex\",\"Age\",\"Fare\",\"FamilySize\",\"Title\",\"Embarked\"]]\n",
    "]\n",
    "\n",
    "kf = KFold(n_splits=3,random_state=1)\n",
    "\n",
    "predictions = []\n",
    "for train,test in kf.split(titanic):\n",
    "    train_target = titanic[\"Survived\"].iloc[train]\n",
    "    full_test_predictions = []\n",
    "    for alg,predicotrs in algorithms:\n",
    "    # Fit the algorithm on the training data.\n",
    "        alg.fit(titanic[predictors].iloc[train,:],train_target)\n",
    "    # Select and predict on the test fold.\n",
    "    # The .astype(float) is necessary to convert the dataframe to all floats and avoid an sklearn error.\n",
    "        test_predictions = alg.predict_proba(titanic[predictors].iloc[test,:].astype(float))[:,1]\n",
    "        full_test_predictions.append(test_predictions)\n",
    "    test_predictions = (full_test_predictions[0] + full_test_predictions[1])/2\n",
    "    test_predictions[test_predictions <= .5] =0\n",
    "    test_predictions[test_predictions >.5] = 1\n",
    "    score = accuracy_score(titanic['Survived'].iloc[test],test_predictions)\n",
    "    print(score)\n",
    "    #我们要进行预测，是要对测试集进行预测\n",
    "    predictions.append(score)\n",
    "print(np.mean(predictions))"
   ]
  },
  {
   "cell_type": "code",
   "execution_count": null,
   "metadata": {
    "collapsed": true
   },
   "outputs": [],
   "source": []
  }
 ],
 "metadata": {
  "anaconda-cloud": {},
  "kernelspec": {
   "display_name": "Python [conda root]",
   "language": "python",
   "name": "conda-root-py"
  },
  "language_info": {
   "codemirror_mode": {
    "name": "ipython",
    "version": 3
   },
   "file_extension": ".py",
   "mimetype": "text/x-python",
   "name": "python",
   "nbconvert_exporter": "python",
   "pygments_lexer": "ipython3",
   "version": "3.5.2"
  }
 },
 "nbformat": 4,
 "nbformat_minor": 1
}
