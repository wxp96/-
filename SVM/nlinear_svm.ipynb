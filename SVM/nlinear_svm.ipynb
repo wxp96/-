{
 "cells": [
  {
   "cell_type": "code",
   "execution_count": 1,
   "metadata": {
    "collapsed": false
   },
   "outputs": [],
   "source": [
    "import cvxopt\n",
    "import numpy as np\n",
    "from svmutil import *\n",
    "from numpy import linalg\n",
    "from cvxopt import matrix, solvers\n",
    "import matplotlib.pyplot as plt\n",
    "%matplotlib inline\n",
    "import pandas as pd \n",
    "import numpy.linalg as la\n",
    "MIN_SUPPORT_VECTOR_MULTIPLIER = 1e-4\n",
    "from sklearn.model_selection import StratifiedShuffleSplit"
   ]
  },
  {
   "cell_type": "code",
   "execution_count": 2,
   "metadata": {
    "collapsed": false
   },
   "outputs": [],
   "source": [
    "class SVM(object):\n",
    "    def __init__(self, kernel, c=1):\n",
    "        self._kernel = kernel\n",
    "        self._c=float(c)\n",
    "    \n",
    "    def get_alphas(self,x,y):\n",
    "        n_samples, n_features = x.shape\n",
    "        K = self._gram_matrix(x)\n",
    "        P = matrix(np.outer(y, y) * K)\n",
    "        q = matrix(-1 * np.ones(n_samples))\n",
    "        G_std = matrix(np.diag(np.ones(n_samples) * -1))\n",
    "        h_std = matrix(np.zeros(n_samples))\n",
    "        G_slack = matrix(np.diag(np.ones(n_samples)))\n",
    "        h_slack = matrix(np.ones(n_samples) * self._c)\n",
    "        G = matrix(np.vstack((G_std, G_slack)))\n",
    "        h = matrix(np.vstack((h_std, h_slack)))\n",
    "        A = matrix(y, (1, n_samples))\n",
    "        b = matrix(0.0)\n",
    "        solvers.options['show_progress'] = False\n",
    "        solution = cvxopt.solvers.qp(P, q, G, h, A, b)\n",
    "        alphas = np.array(solution['x'])\n",
    "        return alphas\n",
    "    \n",
    "    def _gram_matrix(self, x):\n",
    "        n_samples, n_features = x.shape\n",
    "        K = np.zeros((n_samples, n_samples))\n",
    "        for i, x_i in enumerate(x):\n",
    "            for j, x_j in enumerate(x):\n",
    "                K[i,j] = self._kernel(x_i, x_j)\n",
    "        return K\n",
    "    \n",
    "    def get_w_b(self,x,y,alphas):\n",
    "        K = self._gram_matrix(x)\n",
    "        sv_i= alphas > MIN_SUPPORT_VECTOR_MULTIPLIER\n",
    "        self.al = []\n",
    "        self.sv_x = []\n",
    "        self.sv_y = []\n",
    "        sv_index=[]\n",
    "        for i in range(len(sv_i)):\n",
    "            if bool(sv_i[i]) is True :\n",
    "                sv_index.append(i)\n",
    "                self.al.append(a[i])\n",
    "                self.sv_x.append(x[i])\n",
    "                self.sv_y.append(y[i])\n",
    "        self.b = 0.0\n",
    "        self.al = np.array(self.al)\n",
    "        self.sv_x = np.array(self.sv_x)\n",
    "        self.sv_y = np.array(self.sv_y)\n",
    "        sv_index = np.array(sv_index).reshape([-1,1])\n",
    "        for n in range(len(self.al)):\n",
    "            self.b += self.sv_y[n]\n",
    "            for m in range(len(self.al)):\n",
    "                self.b -= self.al[m]*self.sv_y[m]*K[sv_index[n],sv_index[m]]\n",
    "            #self.b -= np.sum(self.al * self.sv_y * K[sv_index[n],sv_i])\n",
    "        self.b /= len(self.al)\n",
    "        if self._kernel == Kernel.linear:\n",
    "            self.w = np.zeros(x.shape[1])\n",
    "            for n in range(len(self.al)):\n",
    "                self.w += self.al[n] * self.sv_y[n] * self.sv_x[n]\n",
    "        else:\n",
    "            self.w = None\n",
    "    \n",
    "    def predictor(self,x):\n",
    "        pre=[]\n",
    "        if self.w is not None:\n",
    "            pre = np.dot(x, self.w) + self.b\n",
    "        else:\n",
    "            pre = np.zeros(len(x))\n",
    "            for i in range(len(x)):\n",
    "                s = 0\n",
    "                for a, sv_y, sv_x in zip(self.al, self.sv_y, self.sv_x):\n",
    "                    s += a * sv_y * self._kernel(x[i], sv_x)\n",
    "                pre[i] = s\n",
    "            pre=pre + self.b\n",
    "        return np.sign(pre)\n",
    "    \n",
    "    def accuracy(self,y, y_pred):\n",
    "        y_pred = np.reshape(y_pred,[-1,1])\n",
    "        return np.sum(y == y_pred) / len(y)"
   ]
  },
  {
   "cell_type": "code",
   "execution_count": 3,
   "metadata": {
    "collapsed": true
   },
   "outputs": [],
   "source": [
    "class Kernel(object):\n",
    "    def linear():\n",
    "        return lambda x, y: np.inner(x, y)\n",
    "    \n",
    "    def gaussian(sigma=5):\n",
    "        return  lambda x, y: np.exp(-np.sqrt(la.norm(x-y) ** 2 / (2 * sigma ** 2)))"
   ]
  },
  {
   "cell_type": "code",
   "execution_count": 4,
   "metadata": {
    "collapsed": true
   },
   "outputs": [],
   "source": [
    "data =pd.read_csv('ex8a.csv')\n",
    "data=data.dropna(how='all')\n",
    "data=np.array(data)\n",
    "split=StratifiedShuffleSplit(n_splits=1,test_size=0.25,random_state=42)\n",
    "for train_index,val_index in split.split(data,data[:,0]):\n",
    "    train_set = data[train_index]\n",
    "    val_set = data[val_index]\n",
    "\n",
    "y_train = np.reshape(np.array(train_set[:,0]),[-1,1])\n",
    "X_train = np.array(train_set[:,1:3])\n",
    "y_val = np.reshape(np.array(val_set[:,0]),[-1,1])\n",
    "X_val = np.array(val_set[:,1:3])"
   ]
  },
  {
   "cell_type": "code",
   "execution_count": 5,
   "metadata": {
    "collapsed": false
   },
   "outputs": [
    {
     "name": "stdout",
     "output_type": "stream",
     "text": [
      "accuracy is: 0.5648148148148148\n"
     ]
    }
   ],
   "source": [
    "l_SVM=SVM(Kernel.linear(),0.5)\n",
    "a=l_SVM.get_alphas(X_train,y_train)\n",
    "l_SVM.get_w_b(X_train,y_train,a)\n",
    "yl_pre = l_SVM.predictor(X_val)\n",
    "acc_l= l_SVM.accuracy(y_val,yl_pre)\n",
    "print('accuracy is:',acc_l)"
   ]
  },
  {
   "cell_type": "code",
   "execution_count": 6,
   "metadata": {
    "collapsed": false
   },
   "outputs": [
    {
     "name": "stdout",
     "output_type": "stream",
     "text": [
      "accuracy is: 0.8148148148148148\n"
     ]
    }
   ],
   "source": [
    "nl_SVM=SVM(Kernel.gaussian(3),0.5)\n",
    "a_n=nl_SVM.get_alphas(X_train,y_train)\n",
    "nl_SVM.get_w_b(X_train,y_train,a)\n",
    "yn_pre = nl_SVM.predictor(X_val)\n",
    "acc_n= nl_SVM.accuracy(y_val,yn_pre)\n",
    "print('accuracy is:',acc_n)"
   ]
  },
  {
   "cell_type": "code",
   "execution_count": null,
   "metadata": {
    "collapsed": true
   },
   "outputs": [],
   "source": []
  }
 ],
 "metadata": {
  "anaconda-cloud": {},
  "kernelspec": {
   "display_name": "Python [conda root]",
   "language": "python",
   "name": "conda-root-py"
  },
  "language_info": {
   "codemirror_mode": {
    "name": "ipython",
    "version": 3
   },
   "file_extension": ".py",
   "mimetype": "text/x-python",
   "name": "python",
   "nbconvert_exporter": "python",
   "pygments_lexer": "ipython3",
   "version": "3.5.2"
  }
 },
 "nbformat": 4,
 "nbformat_minor": 1
}
