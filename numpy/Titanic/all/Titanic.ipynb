{
 "cells": [
  {
   "cell_type": "code",
   "execution_count": 1,
   "metadata": {
    "collapsed": true
   },
   "outputs": [],
   "source": [
    "import numpy as np\n",
    "import pandas as pd"
   ]
  },
  {
   "cell_type": "code",
   "execution_count": 2,
   "metadata": {
    "collapsed": false
   },
   "outputs": [
    {
     "data": {
      "text/html": [
       "<div>\n",
       "<table border=\"1\" class=\"dataframe\">\n",
       "  <thead>\n",
       "    <tr style=\"text-align: right;\">\n",
       "      <th></th>\n",
       "      <th>PassengerId</th>\n",
       "      <th>Survived</th>\n",
       "      <th>Pclass</th>\n",
       "      <th>Name</th>\n",
       "      <th>Sex</th>\n",
       "      <th>Age</th>\n",
       "      <th>SibSp</th>\n",
       "      <th>Parch</th>\n",
       "      <th>Ticket</th>\n",
       "      <th>Fare</th>\n",
       "      <th>Cabin</th>\n",
       "      <th>Embarked</th>\n",
       "    </tr>\n",
       "  </thead>\n",
       "  <tbody>\n",
       "    <tr>\n",
       "      <th>0</th>\n",
       "      <td>1</td>\n",
       "      <td>0</td>\n",
       "      <td>3</td>\n",
       "      <td>Braund, Mr. Owen Harris</td>\n",
       "      <td>male</td>\n",
       "      <td>22.0</td>\n",
       "      <td>1</td>\n",
       "      <td>0</td>\n",
       "      <td>A/5 21171</td>\n",
       "      <td>7.2500</td>\n",
       "      <td>NaN</td>\n",
       "      <td>S</td>\n",
       "    </tr>\n",
       "    <tr>\n",
       "      <th>1</th>\n",
       "      <td>2</td>\n",
       "      <td>1</td>\n",
       "      <td>1</td>\n",
       "      <td>Cumings, Mrs. John Bradley (Florence Briggs Th...</td>\n",
       "      <td>female</td>\n",
       "      <td>38.0</td>\n",
       "      <td>1</td>\n",
       "      <td>0</td>\n",
       "      <td>PC 17599</td>\n",
       "      <td>71.2833</td>\n",
       "      <td>C85</td>\n",
       "      <td>C</td>\n",
       "    </tr>\n",
       "    <tr>\n",
       "      <th>2</th>\n",
       "      <td>3</td>\n",
       "      <td>1</td>\n",
       "      <td>3</td>\n",
       "      <td>Heikkinen, Miss. Laina</td>\n",
       "      <td>female</td>\n",
       "      <td>26.0</td>\n",
       "      <td>0</td>\n",
       "      <td>0</td>\n",
       "      <td>STON/O2. 3101282</td>\n",
       "      <td>7.9250</td>\n",
       "      <td>NaN</td>\n",
       "      <td>S</td>\n",
       "    </tr>\n",
       "    <tr>\n",
       "      <th>3</th>\n",
       "      <td>4</td>\n",
       "      <td>1</td>\n",
       "      <td>1</td>\n",
       "      <td>Futrelle, Mrs. Jacques Heath (Lily May Peel)</td>\n",
       "      <td>female</td>\n",
       "      <td>35.0</td>\n",
       "      <td>1</td>\n",
       "      <td>0</td>\n",
       "      <td>113803</td>\n",
       "      <td>53.1000</td>\n",
       "      <td>C123</td>\n",
       "      <td>S</td>\n",
       "    </tr>\n",
       "    <tr>\n",
       "      <th>4</th>\n",
       "      <td>5</td>\n",
       "      <td>0</td>\n",
       "      <td>3</td>\n",
       "      <td>Allen, Mr. William Henry</td>\n",
       "      <td>male</td>\n",
       "      <td>35.0</td>\n",
       "      <td>0</td>\n",
       "      <td>0</td>\n",
       "      <td>373450</td>\n",
       "      <td>8.0500</td>\n",
       "      <td>NaN</td>\n",
       "      <td>S</td>\n",
       "    </tr>\n",
       "  </tbody>\n",
       "</table>\n",
       "</div>"
      ],
      "text/plain": [
       "   PassengerId  Survived  Pclass  \\\n",
       "0            1         0       3   \n",
       "1            2         1       1   \n",
       "2            3         1       3   \n",
       "3            4         1       1   \n",
       "4            5         0       3   \n",
       "\n",
       "                                                Name     Sex   Age  SibSp  \\\n",
       "0                            Braund, Mr. Owen Harris    male  22.0      1   \n",
       "1  Cumings, Mrs. John Bradley (Florence Briggs Th...  female  38.0      1   \n",
       "2                             Heikkinen, Miss. Laina  female  26.0      0   \n",
       "3       Futrelle, Mrs. Jacques Heath (Lily May Peel)  female  35.0      1   \n",
       "4                           Allen, Mr. William Henry    male  35.0      0   \n",
       "\n",
       "   Parch            Ticket     Fare Cabin Embarked  \n",
       "0      0         A/5 21171   7.2500   NaN        S  \n",
       "1      0          PC 17599  71.2833   C85        C  \n",
       "2      0  STON/O2. 3101282   7.9250   NaN        S  \n",
       "3      0            113803  53.1000  C123        S  \n",
       "4      0            373450   8.0500   NaN        S  "
      ]
     },
     "execution_count": 2,
     "metadata": {},
     "output_type": "execute_result"
    }
   ],
   "source": [
    "titanic_survival = pd.read_csv('train.csv')\n",
    "titanic_survival.head()"
   ]
  },
  {
   "cell_type": "code",
   "execution_count": 21,
   "metadata": {
    "collapsed": false
   },
   "outputs": [
    {
     "name": "stdout",
     "output_type": "stream",
     "text": [
      "0\n"
     ]
    }
   ],
   "source": [
    "age = titanic_survival['Age']\n",
    "#print(age.loc[0:10])\n",
    "age_is_null = pd.isnull(age)\n",
    "#print(age_is_null)\n",
    "age_null_true=age[age_is_null]\n",
    "#print(age_null_true)\n",
    "age_null_count = len(age_null_true)\n",
    "print(age_null_count)"
   ]
  },
  {
   "cell_type": "code",
   "execution_count": 6,
   "metadata": {
    "collapsed": false
   },
   "outputs": [
    {
     "name": "stdout",
     "output_type": "stream",
     "text": [
      "29.69911764705882\n"
     ]
    }
   ],
   "source": [
    "good_ages = titanic_survival['Age'][age_is_null==False]\n",
    "correct_mean_age = sum(good_ages)/len(good_ages)\n",
    "print(correct_mean_age)"
   ]
  },
  {
   "cell_type": "code",
   "execution_count": 7,
   "metadata": {
    "collapsed": false
   },
   "outputs": [
    {
     "name": "stdout",
     "output_type": "stream",
     "text": [
      "29.69911764705882\n"
     ]
    }
   ],
   "source": [
    "correct_mean_age = titanic_survival['Age'].mean()\n",
    "print(correct_mean_age)"
   ]
  },
  {
   "cell_type": "code",
   "execution_count": 10,
   "metadata": {
    "collapsed": false
   },
   "outputs": [
    {
     "name": "stdout",
     "output_type": "stream",
     "text": [
      "{1: 84.15468749999992, 2: 20.66218315217391, 3: 13.675550101832997}\n"
     ]
    }
   ],
   "source": [
    "passenger_classes = [1,2,3]\n",
    "fares_by_class={}\n",
    "for this_class in passenger_classes:\n",
    "    pclass_rows = titanic_survival[titanic_survival['Pclass']==this_class]\n",
    "    pclass_fares = pclass_rows['Fare']\n",
    "    fare_for_class = pclass_fares.mean()\n",
    "    fares_by_class[this_class]=fare_for_class\n",
    "print(fares_by_class)"
   ]
  },
  {
   "cell_type": "code",
   "execution_count": 15,
   "metadata": {
    "collapsed": false
   },
   "outputs": [
    {
     "name": "stdout",
     "output_type": "stream",
     "text": [
      "Pclass\n",
      "1    0.629630\n",
      "2    0.472826\n",
      "3    0.242363\n",
      "Name: Survived, dtype: float64\n"
     ]
    }
   ],
   "source": [
    "passenger_survival = titanic_survival.pivot_table(index='Pclass',values='Survived',aggfunc=np.mean)\n",
    "print(passenger_survival)"
   ]
  },
  {
   "cell_type": "code",
   "execution_count": 16,
   "metadata": {
    "collapsed": false
   },
   "outputs": [
    {
     "name": "stdout",
     "output_type": "stream",
     "text": [
      "Pclass\n",
      "1    38.233441\n",
      "2    29.877630\n",
      "3    25.140620\n",
      "Name: Age, dtype: float64\n"
     ]
    }
   ],
   "source": [
    "passenger_age = titanic_survival.pivot_table(index='Pclass',values='Age')\n",
    "print(passenger_age)"
   ]
  },
  {
   "cell_type": "code",
   "execution_count": 19,
   "metadata": {
    "collapsed": false
   },
   "outputs": [
    {
     "name": "stdout",
     "output_type": "stream",
     "text": [
      "                Fare  Survived\n",
      "Embarked                      \n",
      "C         10072.2962        93\n",
      "Q          1022.2543        30\n",
      "S         17439.3988       217\n"
     ]
    }
   ],
   "source": [
    "per_stas=titanic_survival.pivot_table(index='Embarked',values=['Fare','Survived'],aggfunc=np.sum)\n",
    "print(per_stas)"
   ]
  },
  {
   "cell_type": "code",
   "execution_count": 23,
   "metadata": {
    "collapsed": false
   },
   "outputs": [],
   "source": [
    "drop_na_columns = titanic_survival.dropna(axis=1)\n",
    "#print(drop_na_columns)\n",
    "new_titanic_survival = titanic_survival.dropna(axis=0,subset=['Age','Sex'])"
   ]
  },
  {
   "cell_type": "code",
   "execution_count": 27,
   "metadata": {
    "collapsed": false
   },
   "outputs": [
    {
     "name": "stdout",
     "output_type": "stream",
     "text": [
      "     PassengerId  Survived  Pclass  \\\n",
      "630          631         1       1   \n",
      "851          852         0       3   \n",
      "493          494         0       1   \n",
      "96            97         0       1   \n",
      "116          117         0       3   \n",
      "672          673         0       2   \n",
      "745          746         0       1   \n",
      "33            34         0       2   \n",
      "54            55         0       1   \n",
      "280          281         0       3   \n",
      "456          457         0       1   \n",
      "438          439         0       1   \n",
      "545          546         0       1   \n",
      "275          276         1       1   \n",
      "483          484         1       3   \n",
      "570          571         1       2   \n",
      "252          253         0       1   \n",
      "829          830         1       1   \n",
      "555          556         0       1   \n",
      "625          626         0       1   \n",
      "326          327         0       3   \n",
      "170          171         0       1   \n",
      "684          685         0       2   \n",
      "694          695         0       1   \n",
      "587          588         1       1   \n",
      "366          367         1       1   \n",
      "94            95         0       3   \n",
      "232          233         0       2   \n",
      "268          269         1       1   \n",
      "11            12         1       1   \n",
      "..           ...       ...     ...   \n",
      "718          719         0       3   \n",
      "727          728         1       3   \n",
      "732          733         0       2   \n",
      "738          739         0       3   \n",
      "739          740         0       3   \n",
      "740          741         1       1   \n",
      "760          761         0       3   \n",
      "766          767         0       1   \n",
      "768          769         0       3   \n",
      "773          774         0       3   \n",
      "776          777         0       3   \n",
      "778          779         0       3   \n",
      "783          784         0       3   \n",
      "790          791         0       3   \n",
      "792          793         0       3   \n",
      "793          794         0       1   \n",
      "815          816         0       1   \n",
      "825          826         0       3   \n",
      "826          827         0       3   \n",
      "828          829         1       3   \n",
      "832          833         0       3   \n",
      "837          838         0       3   \n",
      "839          840         1       1   \n",
      "846          847         0       3   \n",
      "849          850         1       1   \n",
      "859          860         0       3   \n",
      "863          864         0       3   \n",
      "868          869         0       3   \n",
      "878          879         0       3   \n",
      "888          889         0       3   \n",
      "\n",
      "                                                 Name     Sex   Age  SibSp  \\\n",
      "630              Barkworth, Mr. Algernon Henry Wilson    male  80.0      0   \n",
      "851                               Svensson, Mr. Johan    male  74.0      0   \n",
      "493                           Artagaveytia, Mr. Ramon    male  71.0      0   \n",
      "96                          Goldschmidt, Mr. George B    male  71.0      0   \n",
      "116                              Connors, Mr. Patrick    male  70.5      0   \n",
      "672                       Mitchell, Mr. Henry Michael    male  70.0      0   \n",
      "745                      Crosby, Capt. Edward Gifford    male  70.0      1   \n",
      "33                              Wheadon, Mr. Edward H    male  66.0      0   \n",
      "54                     Ostby, Mr. Engelhart Cornelius    male  65.0      0   \n",
      "280                                  Duane, Mr. Frank    male  65.0      0   \n",
      "456                         Millet, Mr. Francis Davis    male  65.0      0   \n",
      "438                                 Fortune, Mr. Mark    male  64.0      1   \n",
      "545                      Nicholson, Mr. Arthur Ernest    male  64.0      0   \n",
      "275                 Andrews, Miss. Kornelia Theodosia  female  63.0      1   \n",
      "483                            Turkula, Mrs. (Hedwig)  female  63.0      0   \n",
      "570                                Harris, Mr. George    male  62.0      0   \n",
      "252                         Stead, Mr. William Thomas    male  62.0      0   \n",
      "829         Stone, Mrs. George Nelson (Martha Evelyn)  female  62.0      0   \n",
      "555                                Wright, Mr. George    male  62.0      0   \n",
      "625                             Sutton, Mr. Frederick    male  61.0      0   \n",
      "326                         Nysveen, Mr. Johan Hansen    male  61.0      0   \n",
      "170                         Van der hoef, Mr. Wyckoff    male  61.0      0   \n",
      "684                 Brown, Mr. Thomas William Solomon    male  60.0      1   \n",
      "694                                   Weir, Col. John    male  60.0      0   \n",
      "587                  Frolicher-Stehli, Mr. Maxmillian    male  60.0      1   \n",
      "366  Warren, Mrs. Frank Manley (Anna Sophia Atkinson)  female  60.0      1   \n",
      "94                                  Coxon, Mr. Daniel    male  59.0      0   \n",
      "232                         Sjostedt, Mr. Ernst Adolf    male  59.0      0   \n",
      "268     Graham, Mrs. William Thompson (Edith Junkins)  female  58.0      0   \n",
      "11                           Bonnell, Miss. Elizabeth  female  58.0      0   \n",
      "..                                                ...     ...   ...    ...   \n",
      "718                               McEvoy, Mr. Michael    male   NaN      0   \n",
      "727                          Mannion, Miss. Margareth  female   NaN      0   \n",
      "732                              Knight, Mr. Robert J    male   NaN      0   \n",
      "738                                Ivanoff, Mr. Kanio    male   NaN      0   \n",
      "739                                Nankoff, Mr. Minko    male   NaN      0   \n",
      "740                       Hawksford, Mr. Walter James    male   NaN      0   \n",
      "760                                Garfirth, Mr. John    male   NaN      0   \n",
      "766                         Brewe, Dr. Arthur Jackson    male   NaN      0   \n",
      "768                               Moran, Mr. Daniel J    male   NaN      1   \n",
      "773                                   Elias, Mr. Dibo    male   NaN      0   \n",
      "776                                  Tobin, Mr. Roger    male   NaN      0   \n",
      "778                           Kilgannon, Mr. Thomas J    male   NaN      0   \n",
      "783                            Johnston, Mr. Andrew G    male   NaN      1   \n",
      "790                          Keane, Mr. Andrew \"Andy\"    male   NaN      0   \n",
      "792                           Sage, Miss. Stella Anna  female   NaN      8   \n",
      "793                          Hoyt, Mr. William Fisher    male   NaN      0   \n",
      "815                                  Fry, Mr. Richard    male   NaN      0   \n",
      "825                                   Flynn, Mr. John    male   NaN      0   \n",
      "826                                      Lam, Mr. Len    male   NaN      0   \n",
      "828                      McCormack, Mr. Thomas Joseph    male   NaN      0   \n",
      "832                                    Saad, Mr. Amin    male   NaN      0   \n",
      "837                               Sirota, Mr. Maurice    male   NaN      0   \n",
      "839                              Marechal, Mr. Pierre    male   NaN      0   \n",
      "846                          Sage, Mr. Douglas Bullen    male   NaN      8   \n",
      "849      Goldenberg, Mrs. Samuel L (Edwiga Grabowska)  female   NaN      1   \n",
      "859                                  Razi, Mr. Raihed    male   NaN      0   \n",
      "863                 Sage, Miss. Dorothy Edith \"Dolly\"  female   NaN      8   \n",
      "868                       van Melkebeke, Mr. Philemon    male   NaN      0   \n",
      "878                                Laleff, Mr. Kristo    male   NaN      0   \n",
      "888          Johnston, Miss. Catherine Helen \"Carrie\"  female   NaN      1   \n",
      "\n",
      "     Parch       Ticket      Fare        Cabin Embarked  \n",
      "630      0        27042   30.0000          A23        S  \n",
      "851      0       347060    7.7750          NaN        S  \n",
      "493      0     PC 17609   49.5042          NaN        C  \n",
      "96       0     PC 17754   34.6542           A5        C  \n",
      "116      0       370369    7.7500          NaN        Q  \n",
      "672      0   C.A. 24580   10.5000          NaN        S  \n",
      "745      1    WE/P 5735   71.0000          B22        S  \n",
      "33       0   C.A. 24579   10.5000          NaN        S  \n",
      "54       1       113509   61.9792          B30        C  \n",
      "280      0       336439    7.7500          NaN        Q  \n",
      "456      0        13509   26.5500          E38        S  \n",
      "438      4        19950  263.0000  C23 C25 C27        S  \n",
      "545      0          693   26.0000          NaN        S  \n",
      "275      0        13502   77.9583           D7        S  \n",
      "483      0         4134    9.5875          NaN        S  \n",
      "570      0  S.W./PP 752   10.5000          NaN        S  \n",
      "252      0       113514   26.5500          C87        S  \n",
      "829      0       113572   80.0000          B28      NaN  \n",
      "555      0       113807   26.5500          NaN        S  \n",
      "625      0        36963   32.3208          D50        S  \n",
      "326      0       345364    6.2375          NaN        S  \n",
      "170      0       111240   33.5000          B19        S  \n",
      "684      1        29750   39.0000          NaN        S  \n",
      "694      0       113800   26.5500          NaN        S  \n",
      "587      1        13567   79.2000          B41        C  \n",
      "366      0       110813   75.2500          D37        C  \n",
      "94       0       364500    7.2500          NaN        S  \n",
      "232      0       237442   13.5000          NaN        S  \n",
      "268      1     PC 17582  153.4625         C125        S  \n",
      "11       0       113783   26.5500         C103        S  \n",
      "..     ...          ...       ...          ...      ...  \n",
      "718      0        36568   15.5000          NaN        Q  \n",
      "727      0        36866    7.7375          NaN        Q  \n",
      "732      0       239855    0.0000          NaN        S  \n",
      "738      0       349201    7.8958          NaN        S  \n",
      "739      0       349218    7.8958          NaN        S  \n",
      "740      0        16988   30.0000          D45        S  \n",
      "760      0       358585   14.5000          NaN        S  \n",
      "766      0       112379   39.6000          NaN        C  \n",
      "768      0       371110   24.1500          NaN        Q  \n",
      "773      0         2674    7.2250          NaN        C  \n",
      "776      0       383121    7.7500          F38        Q  \n",
      "778      0        36865    7.7375          NaN        Q  \n",
      "783      2   W./C. 6607   23.4500          NaN        S  \n",
      "790      0        12460    7.7500          NaN        Q  \n",
      "792      2     CA. 2343   69.5500          NaN        S  \n",
      "793      0     PC 17600   30.6958          NaN        C  \n",
      "815      0       112058    0.0000         B102        S  \n",
      "825      0       368323    6.9500          NaN        Q  \n",
      "826      0         1601   56.4958          NaN        S  \n",
      "828      0       367228    7.7500          NaN        Q  \n",
      "832      0         2671    7.2292          NaN        C  \n",
      "837      0       392092    8.0500          NaN        S  \n",
      "839      0        11774   29.7000          C47        C  \n",
      "846      2     CA. 2343   69.5500          NaN        S  \n",
      "849      0        17453   89.1042          C92        C  \n",
      "859      0         2629    7.2292          NaN        C  \n",
      "863      2     CA. 2343   69.5500          NaN        S  \n",
      "868      0       345777    9.5000          NaN        S  \n",
      "878      0       349217    7.8958          NaN        S  \n",
      "888      2   W./C. 6607   23.4500          NaN        S  \n",
      "\n",
      "[891 rows x 12 columns]\n"
     ]
    }
   ],
   "source": [
    "new_titanic_survival = titanic_survival.sort_values('Age',ascending=False)\n",
    "print(new_titanic_survival)\n",
    "titanic_reindexed=new_titanic_survival.reset_index(drop=True)"
   ]
  },
  {
   "cell_type": "code",
   "execution_count": 28,
   "metadata": {
    "collapsed": false
   },
   "outputs": [
    {
     "name": "stdout",
     "output_type": "stream",
     "text": [
      "PassengerId                  100\n",
      "Survived                       0\n",
      "Pclass                         2\n",
      "Name           Kantor, Mr. Sinai\n",
      "Sex                         male\n",
      "Age                           34\n",
      "SibSp                          1\n",
      "Parch                          0\n",
      "Ticket                    244367\n",
      "Fare                          26\n",
      "Cabin                        NaN\n",
      "Embarked                       S\n",
      "dtype: object\n"
     ]
    }
   ],
   "source": [
    "def hundredth_row(column):\n",
    "    hundredth_item=column.loc[99]\n",
    "    return hundredth_item\n",
    "\n",
    "hundredth_row=titanic_survival.apply(hundredth_row)\n",
    "print(hundredth_row)"
   ]
  },
  {
   "cell_type": "code",
   "execution_count": 29,
   "metadata": {
    "collapsed": false
   },
   "outputs": [
    {
     "name": "stdout",
     "output_type": "stream",
     "text": [
      "PassengerId      0\n",
      "Survived         0\n",
      "Pclass           0\n",
      "Name             0\n",
      "Sex              0\n",
      "Age            177\n",
      "SibSp            0\n",
      "Parch            0\n",
      "Ticket           0\n",
      "Fare             0\n",
      "Cabin          687\n",
      "Embarked         2\n",
      "dtype: int64\n"
     ]
    }
   ],
   "source": [
    "def not_null_count(column):\n",
    "    column_null = pd.isnull(column)\n",
    "    null = column[column_null]\n",
    "    return len(null)\n",
    "\n",
    "column_null_count = titanic_survival.apply(not_null_count)\n",
    "print(column_null_count)"
   ]
  },
  {
   "cell_type": "code",
   "execution_count": 32,
   "metadata": {
    "collapsed": false
   },
   "outputs": [
    {
     "name": "stdout",
     "output_type": "stream",
     "text": [
      "0        adult\n",
      "1        adult\n",
      "2        adult\n",
      "3        adult\n",
      "4        adult\n",
      "5      unknown\n",
      "6        adult\n",
      "7        minor\n",
      "8        adult\n",
      "9        minor\n",
      "10       minor\n",
      "11       adult\n",
      "12       adult\n",
      "13       adult\n",
      "14       minor\n",
      "15       adult\n",
      "16       minor\n",
      "17     unknown\n",
      "18       adult\n",
      "19     unknown\n",
      "20       adult\n",
      "21       adult\n",
      "22       minor\n",
      "23       adult\n",
      "24       minor\n",
      "25       adult\n",
      "26     unknown\n",
      "27       adult\n",
      "28     unknown\n",
      "29     unknown\n",
      "        ...   \n",
      "861      adult\n",
      "862      adult\n",
      "863    unknown\n",
      "864      adult\n",
      "865      adult\n",
      "866      adult\n",
      "867      adult\n",
      "868    unknown\n",
      "869      minor\n",
      "870      adult\n",
      "871      adult\n",
      "872      adult\n",
      "873      adult\n",
      "874      adult\n",
      "875      minor\n",
      "876      adult\n",
      "877      adult\n",
      "878    unknown\n",
      "879      adult\n",
      "880      adult\n",
      "881      adult\n",
      "882      adult\n",
      "883      adult\n",
      "884      adult\n",
      "885      adult\n",
      "886      adult\n",
      "887      adult\n",
      "888    unknown\n",
      "889      adult\n",
      "890      adult\n",
      "dtype: object\n"
     ]
    }
   ],
   "source": [
    "def generate_age_label(row):\n",
    "    age=row['Age']\n",
    "    if pd.isnull(age):\n",
    "        return 'unknown'\n",
    "    elif age<18:\n",
    "        return 'minor'\n",
    "    else:\n",
    "        return 'adult'\n",
    "    \n",
    "age_labels = titanic_survival.apply(generate_age_label,axis=1)\n",
    "print(age_labels)"
   ]
  },
  {
   "cell_type": "code",
   "execution_count": null,
   "metadata": {
    "collapsed": true
   },
   "outputs": [],
   "source": []
  }
 ],
 "metadata": {
  "kernelspec": {
   "display_name": "Python [conda root]",
   "language": "python",
   "name": "conda-root-py"
  },
  "language_info": {
   "codemirror_mode": {
    "name": "ipython",
    "version": 3
   },
   "file_extension": ".py",
   "mimetype": "text/x-python",
   "name": "python",
   "nbconvert_exporter": "python",
   "pygments_lexer": "ipython3",
   "version": "3.5.2"
  }
 },
 "nbformat": 4,
 "nbformat_minor": 1
}
