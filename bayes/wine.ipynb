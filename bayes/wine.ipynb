{
 "cells": [
  {
   "cell_type": "code",
   "execution_count": 5,
   "metadata": {
    "collapsed": false
   },
   "outputs": [
    {
     "name": "stdout",
     "output_type": "stream",
     "text": [
      "Split 178 rows into train=119 and test=59 rows\n",
      "Accuracy: 94.91525423728814%\n"
     ]
    }
   ],
   "source": [
    "import csv\n",
    "import random\n",
    "import math\n",
    " \n",
    "def loadCsv(filename):\n",
    "  lines = csv.reader(open(filename, \"r\"))\n",
    "  dataset = list(lines)\n",
    "  for i in range(len(dataset)):\n",
    "    dataset[i] = [float(x) for x in dataset[i]]\n",
    "  return dataset\n",
    " \n",
    "def splitDataset(dataset, splitRatio):\n",
    "  trainSize = int(len(dataset) * splitRatio)\n",
    "  trainSet = []\n",
    "  copy = list(dataset)\n",
    "  while len(trainSet) < trainSize:\n",
    "    index = random.randrange(len(copy))\n",
    "    trainSet.append(copy.pop(index))\n",
    "  return [trainSet, copy]\n",
    " \n",
    "def separateByClass(dataset):\n",
    "  separated = {}\n",
    "  for i in range(len(dataset)):\n",
    "    vector = dataset[i]\n",
    "    if (vector[0] not in separated):\n",
    "      separated[vector[0]] = []\n",
    "    separated[vector[0]].append(vector)\n",
    "  return separated\n",
    " \n",
    "def mean(numbers):\n",
    "  return sum(numbers)/float(len(numbers))\n",
    " \n",
    "def stdev(numbers):\n",
    "  avg = mean(numbers)\n",
    "  variance = sum([pow(x-avg,2) for x in numbers])/float(len(numbers)-1)\n",
    "  return math.sqrt(variance)\n",
    " \n",
    "def summarize(dataset):\n",
    "  summaries = [(mean(attribute), stdev(attribute)) for attribute in zip(*dataset)]\n",
    "  del summaries[0]\n",
    "  return summaries\n",
    " \n",
    "def summarizeByClass(dataset):\n",
    "  separated = separateByClass(dataset)\n",
    "  summaries = {}\n",
    "  for classValue, instances in separated.items():\n",
    "    summaries[classValue] = summarize(instances)\n",
    "  return summaries\n",
    " \n",
    "def calculateProbability(x, mean, stdev):\n",
    "  exponent = math.exp(-(math.pow(x-mean,2)/(2*math.pow(stdev,2))))\n",
    "  return (1 / (math.sqrt(2*math.pi) * stdev)) * exponent\n",
    " \n",
    "def calculateClassProbabilities(summaries, inputVector):\n",
    "  probabilities = {}\n",
    "  for classValue, classSummaries in summaries.items():\n",
    "    probabilities[classValue] = 1\n",
    "    for i in range(len(classSummaries)):\n",
    "      mean, stdev = classSummaries[i]\n",
    "      x = inputVector[i+1]\n",
    "      probabilities[classValue] *= calculateProbability(x, mean, stdev)\n",
    "  return probabilities\n",
    " \n",
    "def predict(summaries, inputVector):\n",
    "  probabilities = calculateClassProbabilities(summaries, inputVector)\n",
    "  bestLabel, bestProb = None, -1\n",
    "  for classValue, probability in probabilities.items():\n",
    "    if bestLabel is None or probability > bestProb:\n",
    "      bestProb = probability\n",
    "      bestLabel = classValue\n",
    "  return bestLabel\n",
    " \n",
    "def getPredictions(summaries, testSet):\n",
    "  predictions = []\n",
    "  for i in range(len(testSet)):\n",
    "    result = predict(summaries, testSet[i])\n",
    "    predictions.append(result)\n",
    "  return predictions\n",
    " \n",
    "def getAccuracy(testSet, predictions):\n",
    "  correct = 0\n",
    "  for i in range(len(testSet)):\n",
    "    if testSet[i][0] == predictions[i]:\n",
    "      correct += 1\n",
    "  return (correct/float(len(testSet))) * 100.0\n",
    " \n",
    "def main():\n",
    "  filename = 'winedata.csv'\n",
    "  splitRatio = 0.67\n",
    "  dataset = loadCsv(filename)\n",
    "  trainingSet, testSet = splitDataset(dataset, splitRatio)\n",
    "  print(('Split {0} rows into train={1} and test={2} rows').format(len(dataset), len(trainingSet), len(testSet)))\n",
    "  # prepare model\n",
    "  summaries = summarizeByClass(trainingSet)\n",
    "  # test model\n",
    "  predictions = getPredictions(summaries, testSet)\n",
    "  accuracy = getAccuracy(testSet, predictions)\n",
    "  print(('Accuracy: {0}%').format(accuracy))\n",
    " \n",
    "main()"
   ]
  },
  {
   "cell_type": "code",
   "execution_count": 8,
   "metadata": {
    "collapsed": false
   },
   "outputs": [],
   "source": [
    "from sklearn.naive_bayes import GaussianNB\n",
    "import numpy as np"
   ]
  },
  {
   "cell_type": "code",
   "execution_count": 21,
   "metadata": {
    "collapsed": false
   },
   "outputs": [],
   "source": [
    "filename = 'winedata.csv'\n",
    "splitRatio = 0.67\n",
    "dataset = loadCsv(filename)\n",
    "gnb = GaussianNB()\n",
    "trainSet,testSet = splitDataset(dataset,splitRatio)\n",
    "sk_train = np.array(trainSet)\n",
    "sk_test = np.array(testSet)"
   ]
  },
  {
   "cell_type": "code",
   "execution_count": 22,
   "metadata": {
    "collapsed": true
   },
   "outputs": [],
   "source": [
    "sk_train_y=sk_train[:,0]\n",
    "sk_train_x=sk_train[:,1:]\n",
    "sk_test_x=sk_test[:,1:]\n",
    "sk_test_y=sk_test[:,0]"
   ]
  },
  {
   "cell_type": "code",
   "execution_count": 23,
   "metadata": {
    "collapsed": false
   },
   "outputs": [
    {
     "name": "stdout",
     "output_type": "stream",
     "text": [
      "Accuracy:0.983051\n"
     ]
    }
   ],
   "source": [
    "y_pred = gnb.fit(sk_train_x,sk_train_y).predict(sk_test_x)\n",
    "r_num = (sk_test_y == y_pred).sum()\n",
    "print(\"Accuracy:%f\" %(r_num/float(len(sk_test_y))))"
   ]
  },
  {
   "cell_type": "code",
   "execution_count": null,
   "metadata": {
    "collapsed": true
   },
   "outputs": [],
   "source": []
  }
 ],
 "metadata": {
  "anaconda-cloud": {},
  "kernelspec": {
   "display_name": "Python [conda root]",
   "language": "python",
   "name": "conda-root-py"
  },
  "language_info": {
   "codemirror_mode": {
    "name": "ipython",
    "version": 3
   },
   "file_extension": ".py",
   "mimetype": "text/x-python",
   "name": "python",
   "nbconvert_exporter": "python",
   "pygments_lexer": "ipython3",
   "version": "3.5.2"
  }
 },
 "nbformat": 4,
 "nbformat_minor": 1
}
